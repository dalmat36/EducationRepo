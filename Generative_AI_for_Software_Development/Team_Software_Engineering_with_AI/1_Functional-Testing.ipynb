{
 "cells": [
  {
   "cell_type": "code",
   "execution_count": 1,
   "metadata": {
    "colab": {
     "base_uri": "https://localhost:8080/"
    },
    "executionInfo": {
     "elapsed": 6,
     "status": "ok",
     "timestamp": 1721400011628,
     "user": {
      "displayName": "Laurence Moroney",
      "userId": "17858265307580721507"
     },
     "user_tz": 420
    },
    "id": "1-A7q7tsY6og",
    "outputId": "ad75a627-823d-4374-ab21-cba6e12790e6"
   },
   "outputs": [
    {
     "name": "stdout",
     "output_type": "stream",
     "text": [
      "Task 'Buy groceries' added.\n",
      "Task 'Read a book' added.\n",
      "['Buy groceries', 'Read a book']\n",
      "Task 'Read a book' removed.\n",
      "['Buy groceries']\n"
     ]
    }
   ],
   "source": [
    "tasks = []\n",
    "\n",
    "def add_task(task):\n",
    "    if task:\n",
    "        tasks.append(task)\n",
    "        return f\"Task '{task}' added.\"\n",
    "    else:\n",
    "        raise ValueError(\"Cannot add empty task\")\n",
    "\n",
    "def remove_task(task):\n",
    "    if task in tasks:\n",
    "        tasks.remove(task)\n",
    "        return f\"Task '{task}' removed.\"\n",
    "    else:\n",
    "        return \"Task not found.\"\n",
    "\n",
    "def list_tasks():\n",
    "    return tasks\n",
    "\n",
    "# Example usage\n",
    "print(add_task(\"Buy groceries\"))\n",
    "print(add_task(\"Read a book\"))\n",
    "print(list_tasks())\n",
    "print(remove_task(\"Read a book\"))\n",
    "print(list_tasks())"
   ]
  },
  {
   "cell_type": "code",
   "execution_count": 2,
   "metadata": {
    "colab": {
     "base_uri": "https://localhost:8080/"
    },
    "executionInfo": {
     "elapsed": 220,
     "status": "ok",
     "timestamp": 1721400024393,
     "user": {
      "displayName": "Laurence Moroney",
      "userId": "17858265307580721507"
     },
     "user_tz": 420
    },
    "id": "Ep6w1oRvZZtv",
    "outputId": "fd969c54-fade-442c-cafb-63cc6e8f55b9"
   },
   "outputs": [
    {
     "name": "stdout",
     "output_type": "stream",
     "text": [
      "Task not found.\n"
     ]
    }
   ],
   "source": [
    "print(remove_task(\"Go for a run\"))  # Output: Task not found."
   ]
  },
  {
   "cell_type": "code",
   "execution_count": 3,
   "metadata": {
    "colab": {
     "base_uri": "https://localhost:8080/"
    },
    "executionInfo": {
     "elapsed": 257,
     "status": "ok",
     "timestamp": 1721400028185,
     "user": {
      "displayName": "Laurence Moroney",
      "userId": "17858265307580721507"
     },
     "user_tz": 420
    },
    "id": "gEO-l_17ZfQL",
    "outputId": "e2a9cb9f-8fd9-45cc-9955-31035d1aca7e"
   },
   "outputs": [
    {
     "name": "stdout",
     "output_type": "stream",
     "text": [
      "Task 'Read a book' added.\n",
      "['Buy groceries', 'Read a book']\n"
     ]
    }
   ],
   "source": [
    "print(add_task(\"Read a book\"))\n",
    "#print(add_task(\"\"))  # Output: Task '' added.\n",
    "print(list_tasks())  # Output: ['Buy groceries', 'Read a book', '']"
   ]
  },
  {
   "cell_type": "code",
   "execution_count": 4,
   "metadata": {
    "colab": {
     "base_uri": "https://localhost:8080/"
    },
    "executionInfo": {
     "elapsed": 215,
     "status": "ok",
     "timestamp": 1721400041734,
     "user": {
      "displayName": "Laurence Moroney",
      "userId": "17858265307580721507"
     },
     "user_tz": 420
    },
    "id": "XJzG79ygZpRS",
    "outputId": "e60a6c03-55c3-47ae-f640-e4a990e85161"
   },
   "outputs": [
    {
     "name": "stdout",
     "output_type": "stream",
     "text": [
      "Task '!@#$%^&*()' added.\n",
      "['Buy groceries', 'Read a book', '!@#$%^&*()']\n",
      "Task 'aaaaaaaaaaaaaaaaaaaaaaaaaaaaaaaaaaaaaaaaaaaaaaaaaaaaaaaaaaaaaaaaaaaaaaaaaaaaaaaaaaaaaaaaaaaaaaaaaaaaaaaaaaaaaaaaaaaaaaaaaaaaaaaaaaaaaaaaaaaaaaaaaaaaaaaaaaaaaaaaaaaaaaaaaaaaaaaaaaaaaaaaaaaaaaaaaaaaaaaaaaaaaaaaaaaaaaaaaaaaaaaaaaaaaaaaaaaaaaaaaaaaaaaaaaaaaaaaaaaaaaaaaaaaaaaaaaaaaaaaaaaaaaaaaaaaaaaaaaaaaaaaaaaaaaaaaaaaaaaaaaaaaaaaaaaaaaaaaaaaaaaaaaaaaaaaaaaaaaaaaaaaaaaaaaaaaaaaaaaaaaaaaaaaaaaaaaaaaaaaaaaaaaaaaaaaaaaaaaaaaaaaaaaaaaaaaaaaaaaaaaaaaaaaaaaaaaaaaaaaaaaaaaaaaaaaaaaaaaaaaaaaaaaaaaaaaaaaaaaaaaaaaaaaaaaaaaaaaaaaaaaaaaaaaaaaaaaaaaaaaaaaaaaaaaaaaaaaaaaaaaaaaaaaaaaaaaaaaaaaaaaaaaaaaaaaaaaaaaaaaaaaaaaaaaaaaaaaaaaaaaaaaaaaaaaaaaaaaaaaaaaaaaaaaaaaaaaaaaaaaaaaaaaaaaaaaaaaaaaaaaaaaaaaaaaaaaaaaaaaaaaaaaaaaaaaaaaaaaaaaaaaaaaaaaaaaaaaaaaaaaaaaaaaaaaaaaaaaaaaaaaaaaaaaaaaaaaaaaaaaaaaaaaaaaaaaaaaaaaaaaaaaaaaaaaaaaaaaaaaaaaaaaaaaaaaaaaaaaaaaaaaaaaaaaaaaaaaaaaaaaaaaaaaaaaaaaaaaaaaaaaaaaaaaaaaaaaaaaaaaaaaaaaaaaaaaaaaaaaaaaaaaaaaaaaaaaaaaaaaaaaaaaaaaaaaaaaaaaaaaaaaaaaaaaaaaaaaaaaaaaaaaaaaaaaaaaaaaaaa' added.\n",
      "['Buy groceries', 'Read a book', '!@#$%^&*()', 'aaaaaaaaaaaaaaaaaaaaaaaaaaaaaaaaaaaaaaaaaaaaaaaaaaaaaaaaaaaaaaaaaaaaaaaaaaaaaaaaaaaaaaaaaaaaaaaaaaaaaaaaaaaaaaaaaaaaaaaaaaaaaaaaaaaaaaaaaaaaaaaaaaaaaaaaaaaaaaaaaaaaaaaaaaaaaaaaaaaaaaaaaaaaaaaaaaaaaaaaaaaaaaaaaaaaaaaaaaaaaaaaaaaaaaaaaaaaaaaaaaaaaaaaaaaaaaaaaaaaaaaaaaaaaaaaaaaaaaaaaaaaaaaaaaaaaaaaaaaaaaaaaaaaaaaaaaaaaaaaaaaaaaaaaaaaaaaaaaaaaaaaaaaaaaaaaaaaaaaaaaaaaaaaaaaaaaaaaaaaaaaaaaaaaaaaaaaaaaaaaaaaaaaaaaaaaaaaaaaaaaaaaaaaaaaaaaaaaaaaaaaaaaaaaaaaaaaaaaaaaaaaaaaaaaaaaaaaaaaaaaaaaaaaaaaaaaaaaaaaaaaaaaaaaaaaaaaaaaaaaaaaaaaaaaaaaaaaaaaaaaaaaaaaaaaaaaaaaaaaaaaaaaaaaaaaaaaaaaaaaaaaaaaaaaaaaaaaaaaaaaaaaaaaaaaaaaaaaaaaaaaaaaaaaaaaaaaaaaaaaaaaaaaaaaaaaaaaaaaaaaaaaaaaaaaaaaaaaaaaaaaaaaaaaaaaaaaaaaaaaaaaaaaaaaaaaaaaaaaaaaaaaaaaaaaaaaaaaaaaaaaaaaaaaaaaaaaaaaaaaaaaaaaaaaaaaaaaaaaaaaaaaaaaaaaaaaaaaaaaaaaaaaaaaaaaaaaaaaaaaaaaaaaaaaaaaaaaaaaaaaaaaaaaaaaaaaaaaaaaaaaaaaaaaaaaaaaaaaaaaaaaaaaaaaaaaaaaaaaaaaaaaaaaaaaaaaaaaaaaaaaaaaaaaaaaaaaaaaaaaaaaaaaaaaaaaaaaaaaaaaaaaaaaaaaaaaaaaaaaaaaaaaaaaaaaaaaaaaaa']\n"
     ]
    }
   ],
   "source": [
    "print(add_task(\"!@#$%^&*()\"))  # Output: Task '!@#$%^&*()' added.\n",
    "print(list_tasks())            # Output: ['Buy groceries', 'Read a book', '', '!@#$%^&*()']\n",
    "\n",
    "long_task = \"a\" * 1000\n",
    "print(add_task(long_task))     # Output: Task '<1000 characters>' added.\n",
    "print(list_tasks())            # Output: ['Buy groceries', 'Read a book', '', '!@#$%^&*()', '<1000 characters>']"
   ]
  },
  {
   "cell_type": "code",
   "execution_count": 5,
   "metadata": {
    "colab": {
     "base_uri": "https://localhost:8080/"
    },
    "executionInfo": {
     "elapsed": 198,
     "status": "ok",
     "timestamp": 1721400065871,
     "user": {
      "displayName": "Laurence Moroney",
      "userId": "17858265307580721507"
     },
     "user_tz": 420
    },
    "id": "6Fa7h3TAaS5N",
    "outputId": "e6ebb75a-847a-4ba5-b857-cbef427df654"
   },
   "outputs": [],
   "source": [
    "# import unittest\n",
    "\n",
    "# class TestTodoList(unittest.TestCase):\n",
    "\n",
    "#     def setUp(self):\n",
    "#         global tasks\n",
    "#         tasks = []\n",
    "\n",
    "#     def test_add_task(self):\n",
    "#         self.assertEqual(add_task(\"Buy groceries\"), \"Task 'Buy groceries' added.\")\n",
    "#         self.assertIn(\"Buy groceries\", tasks)\n",
    "\n",
    "#     def test_remove_task(self):\n",
    "#         add_task(\"Read a book\")\n",
    "#         self.assertEqual(remove_task(\"Read a book\"), \"Task 'Read a book' removed.\")\n",
    "#         self.assertNotIn(\"Read a book\", tasks)\n",
    "\n",
    "#     def test_remove_nonexistent_task(self):\n",
    "#         self.assertEqual(remove_task(\"Go for a run\"), \"Task not found.\")\n",
    "\n",
    "#     def test_list_tasks(self):\n",
    "#         add_task(\"Buy groceries\")\n",
    "#         add_task(\"Read a book\")\n",
    "#         self.assertEqual(list_tasks(), [\"Buy groceries\", \"Read a book\"])\n",
    "\n",
    "#     def test_add_empty_task(self):\n",
    "#         with self.assertRaises(ValueError) as context:\n",
    "#             add_task(\"\")\n",
    "\n",
    "#         self.assertEqual(str(context.exception), \"Cannot add empty task\")\n",
    "#         #self.assertEqual(add_task(\"\"), \"Task '' added.\")\n",
    "#         #self.assertIn(\"\", tasks)\n",
    "\n",
    "\n",
    "# unittest.main(argv=[''], verbosity=2, exit=False)"
   ]
  },
  {
   "cell_type": "code",
   "execution_count": 7,
   "metadata": {},
   "outputs": [],
   "source": [
    "# === Test Suite ===\n",
    "import pytest\n",
    "@pytest.fixture(autouse=True)\n",
    "def reset_tasks():\n",
    "    \"\"\"Resets the task list before each test to ensure isolation.\"\"\"\n",
    "    tasks.clear()\n",
    "\n",
    "\n",
    "def test_add_valid_task():\n",
    "    result = add_task(\"Walk the dog\")\n",
    "    assert result == \"Task 'Walk the dog' added.\"\n",
    "    assert tasks == [\"Walk the dog\"]\n",
    "\n",
    "\n",
    "def test_add_multiple_tasks():\n",
    "    add_task(\"Task A\")\n",
    "    add_task(\"Task B\")\n",
    "    assert tasks == [\"Task A\", \"Task B\"]\n",
    "\n",
    "\n",
    "def test_add_empty_task_raises():\n",
    "    with pytest.raises(ValueError) as exc_info:\n",
    "        add_task(\"\")\n",
    "    assert str(exc_info.value) == \"Cannot add empty task\"\n",
    "\n",
    "\n",
    "def test_add_none_task_raises():\n",
    "    with pytest.raises(ValueError):\n",
    "        add_task(None)\n",
    "\n",
    "\n",
    "def test_list_tasks_after_additions():\n",
    "    add_task(\"A\")\n",
    "    add_task(\"B\")\n",
    "    assert list_tasks() == [\"A\", \"B\"]\n",
    "\n",
    "\n",
    "def test_remove_existing_task():\n",
    "    add_task(\"Email team\")\n",
    "    result = remove_task(\"Email team\")\n",
    "    assert result == \"Task 'Email team' removed.\"\n",
    "    assert tasks == []\n",
    "\n",
    "\n",
    "def test_remove_nonexistent_task():\n",
    "    add_task(\"Backup files\")\n",
    "    result = remove_task(\"Nonexistent Task\")\n",
    "    assert result == \"Task not found.\"\n",
    "    assert tasks == [\"Backup files\"]\n",
    "\n",
    "\n",
    "def test_remove_duplicate_tasks_removes_one():\n",
    "    add_task(\"Clean desk\")\n",
    "    add_task(\"Clean desk\")\n",
    "    remove_task(\"Clean desk\")\n",
    "    assert tasks == [\"Clean desk\"]\n",
    "\n",
    "\n",
    "def test_list_tasks_returns_reference():\n",
    "    # Ensure list_tasks() is not returning a copy\n",
    "    add_task(\"Alpha\")\n",
    "    task_list = list_tasks()\n",
    "    task_list.append(\"Injected\")\n",
    "    assert \"Injected\" in tasks  # This proves the list is not safely encapsulated\n",
    "\n",
    "\n",
    "def test_add_task_with_whitespace_string():\n",
    "    result = add_task(\"   \")\n",
    "    assert result == \"Task '   ' added.\"\n",
    "    assert tasks == [\"   \"]"
   ]
  },
  {
   "cell_type": "code",
   "execution_count": null,
   "metadata": {},
   "outputs": [],
   "source": []
  }
 ],
 "metadata": {
  "colab": {
   "authorship_tag": "ABX9TyMfvNhtUXslnDT1yyJ9B4g8",
   "provenance": []
  },
  "kernelspec": {
   "display_name": "Python 3 (ipykernel)",
   "language": "python",
   "name": "python3"
  },
  "language_info": {
   "codemirror_mode": {
    "name": "ipython",
    "version": 3
   },
   "file_extension": ".py",
   "mimetype": "text/x-python",
   "name": "python",
   "nbconvert_exporter": "python",
   "pygments_lexer": "ipython3",
   "version": "3.11.9"
  }
 },
 "nbformat": 4,
 "nbformat_minor": 4
}
