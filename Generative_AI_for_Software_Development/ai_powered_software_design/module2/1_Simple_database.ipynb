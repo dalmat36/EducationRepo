{
 "cells": [
  {
   "cell_type": "code",
   "execution_count": 2,
   "metadata": {},
   "outputs": [],
   "source": [
    "from sqlalchemy import create_engine"
   ]
  },
  {
   "cell_type": "code",
   "execution_count": 3,
   "metadata": {},
   "outputs": [],
   "source": [
    "engine = create_engine('sqlite:///ecommerce.db', echo=True)"
   ]
  },
  {
   "cell_type": "code",
   "execution_count": 5,
   "metadata": {},
   "outputs": [
    {
     "name": "stdout",
     "output_type": "stream",
     "text": [
      "2025-08-05 11:55:18,106 INFO sqlalchemy.engine.Engine BEGIN (implicit)\n",
      "2025-08-05 11:55:18,108 INFO sqlalchemy.engine.Engine SELECT 1\n",
      "2025-08-05 11:55:18,109 INFO sqlalchemy.engine.Engine [generated in 0.00316s] ()\n",
      "1\n",
      "2025-08-05 11:55:18,111 INFO sqlalchemy.engine.Engine ROLLBACK\n"
     ]
    }
   ],
   "source": [
    "from sqlalchemy import text\n",
    "\n",
    "with engine.connect() as connection:\n",
    "    result = connection.execute(text(\"SELECT 1\"))\n",
    "    # Fetch and print the result\n",
    "    print(result.scalar()) # This should print 1 if the connection is successful"
   ]
  },
  {
   "cell_type": "code",
   "execution_count": 6,
   "metadata": {},
   "outputs": [
    {
     "name": "stdout",
     "output_type": "stream",
     "text": [
      "2025-08-05 13:14:05,121 INFO sqlalchemy.engine.Engine BEGIN (implicit)\n",
      "2025-08-05 13:14:05,127 INFO sqlalchemy.engine.Engine PRAGMA main.table_info(\"users\")\n",
      "2025-08-05 13:14:05,129 INFO sqlalchemy.engine.Engine [raw sql] ()\n",
      "2025-08-05 13:14:05,133 INFO sqlalchemy.engine.Engine PRAGMA temp.table_info(\"users\")\n",
      "2025-08-05 13:14:05,134 INFO sqlalchemy.engine.Engine [raw sql] ()\n",
      "2025-08-05 13:14:05,135 INFO sqlalchemy.engine.Engine PRAGMA main.table_info(\"products\")\n",
      "2025-08-05 13:14:05,136 INFO sqlalchemy.engine.Engine [raw sql] ()\n",
      "2025-08-05 13:14:05,139 INFO sqlalchemy.engine.Engine PRAGMA temp.table_info(\"products\")\n",
      "2025-08-05 13:14:05,140 INFO sqlalchemy.engine.Engine [raw sql] ()\n",
      "2025-08-05 13:14:05,141 INFO sqlalchemy.engine.Engine PRAGMA main.table_info(\"orders\")\n",
      "2025-08-05 13:14:05,142 INFO sqlalchemy.engine.Engine [raw sql] ()\n",
      "2025-08-05 13:14:05,144 INFO sqlalchemy.engine.Engine PRAGMA temp.table_info(\"orders\")\n",
      "2025-08-05 13:14:05,145 INFO sqlalchemy.engine.Engine [raw sql] ()\n",
      "2025-08-05 13:14:05,146 INFO sqlalchemy.engine.Engine PRAGMA main.table_info(\"order_items\")\n",
      "2025-08-05 13:14:05,147 INFO sqlalchemy.engine.Engine [raw sql] ()\n",
      "2025-08-05 13:14:05,149 INFO sqlalchemy.engine.Engine PRAGMA temp.table_info(\"order_items\")\n",
      "2025-08-05 13:14:05,149 INFO sqlalchemy.engine.Engine [raw sql] ()\n",
      "2025-08-05 13:14:05,156 INFO sqlalchemy.engine.Engine \n",
      "CREATE TABLE users (\n",
      "\tid INTEGER NOT NULL, \n",
      "\tname VARCHAR, \n",
      "\temail VARCHAR, \n",
      "\tPRIMARY KEY (id), \n",
      "\tUNIQUE (email)\n",
      ")\n",
      "\n",
      "\n",
      "2025-08-05 13:14:05,158 INFO sqlalchemy.engine.Engine [no key 0.00131s] ()\n",
      "2025-08-05 13:14:05,222 INFO sqlalchemy.engine.Engine \n",
      "CREATE TABLE products (\n",
      "\tid INTEGER NOT NULL, \n",
      "\tname VARCHAR, \n",
      "\tprice INTEGER, \n",
      "\tPRIMARY KEY (id)\n",
      ")\n",
      "\n",
      "\n",
      "2025-08-05 13:14:05,223 INFO sqlalchemy.engine.Engine [no key 0.00138s] ()\n",
      "2025-08-05 13:14:05,231 INFO sqlalchemy.engine.Engine \n",
      "CREATE TABLE orders (\n",
      "\tid INTEGER NOT NULL, \n",
      "\tuser_id INTEGER, \n",
      "\tPRIMARY KEY (id), \n",
      "\tFOREIGN KEY(user_id) REFERENCES users (id)\n",
      ")\n",
      "\n",
      "\n",
      "2025-08-05 13:14:05,232 INFO sqlalchemy.engine.Engine [no key 0.00106s] ()\n",
      "2025-08-05 13:14:05,241 INFO sqlalchemy.engine.Engine \n",
      "CREATE TABLE order_items (\n",
      "\tid INTEGER NOT NULL, \n",
      "\torder_id INTEGER, \n",
      "\tproduct_id INTEGER, \n",
      "\tquantity INTEGER, \n",
      "\tPRIMARY KEY (id), \n",
      "\tFOREIGN KEY(order_id) REFERENCES orders (id), \n",
      "\tFOREIGN KEY(product_id) REFERENCES products (id)\n",
      ")\n",
      "\n",
      "\n",
      "2025-08-05 13:14:05,250 INFO sqlalchemy.engine.Engine [no key 0.00861s] ()\n",
      "2025-08-05 13:14:05,255 INFO sqlalchemy.engine.Engine COMMIT\n"
     ]
    }
   ],
   "source": [
    "from sqlalchemy import Table, Column, Integer, String, MetaData, ForeignKey\n",
    "metadata = MetaData()\n",
    "\n",
    "users = Table('users', metadata,\n",
    "              Column('id', Integer, primary_key=True),\n",
    "              Column('name', String),\n",
    "              Column('email', String, unique=True))\n",
    "\n",
    "products = Table('products', metadata,\n",
    "                 Column('id', Integer, primary_key=True),\n",
    "                 Column('name', String),\n",
    "                 Column('price', Integer))\n",
    "\n",
    "orders = Table('orders', metadata,\n",
    "               Column('id', Integer, primary_key=True),\n",
    "               Column('user_id', Integer, ForeignKey('users.id')))\n",
    "\n",
    "order_items = Table('order_items', metadata,\n",
    "                    Column('id', Integer, primary_key=True),\n",
    "                    Column('order_id', Integer, ForeignKey('orders.id')),\n",
    "                    Column('product_id', Integer, ForeignKey('products.id')),\n",
    "                    Column('quantity', Integer))\n",
    "\n",
    "# Create all tables\n",
    "metadata.create_all(engine)"
   ]
  },
  {
   "cell_type": "code",
   "execution_count": 7,
   "metadata": {},
   "outputs": [],
   "source": [
    "def add_user(name, email):\n",
    "    ins = users.insert().values(name=name, email=email)\n",
    "    with engine.connect() as conn:\n",
    "        result = conn.execute(ins)\n",
    "        conn.commit()\n",
    "        return result.inserted_primary_key[0]  # returns the new user's id"
   ]
  },
  {
   "cell_type": "code",
   "execution_count": 8,
   "metadata": {},
   "outputs": [
    {
     "name": "stdout",
     "output_type": "stream",
     "text": [
      "2025-08-05 13:18:14,887 INFO sqlalchemy.engine.Engine BEGIN (implicit)\n",
      "2025-08-05 13:18:14,889 INFO sqlalchemy.engine.Engine INSERT INTO users (name, email) VALUES (?, ?)\n",
      "2025-08-05 13:18:14,890 INFO sqlalchemy.engine.Engine [generated in 0.00330s] ('John Doe', 'john.doe@example.com')\n",
      "2025-08-05 13:18:14,896 INFO sqlalchemy.engine.Engine COMMIT\n"
     ]
    },
    {
     "data": {
      "text/plain": [
       "1"
      ]
     },
     "execution_count": 8,
     "metadata": {},
     "output_type": "execute_result"
    }
   ],
   "source": [
    "add_user('John Doe', 'john.doe@example.com')"
   ]
  },
  {
   "cell_type": "code",
   "execution_count": 11,
   "metadata": {},
   "outputs": [],
   "source": [
    "def get_user(id):\n",
    "    sel = users.select().where(users.c.id == id)\n",
    "    with engine.connect() as conn:\n",
    "        result = conn.execute(sel).fetchone()\n",
    "        return dict(result._mapping) if result else None"
   ]
  },
  {
   "cell_type": "code",
   "execution_count": 12,
   "metadata": {},
   "outputs": [
    {
     "name": "stdout",
     "output_type": "stream",
     "text": [
      "2025-08-05 13:22:56,829 INFO sqlalchemy.engine.Engine BEGIN (implicit)\n",
      "2025-08-05 13:22:56,831 INFO sqlalchemy.engine.Engine SELECT users.id, users.name, users.email \n",
      "FROM users \n",
      "WHERE users.id = ?\n",
      "2025-08-05 13:22:56,832 INFO sqlalchemy.engine.Engine [cached since 126.4s ago] (1,)\n",
      "2025-08-05 13:22:56,833 INFO sqlalchemy.engine.Engine ROLLBACK\n"
     ]
    },
    {
     "data": {
      "text/plain": [
       "{'id': 1, 'name': 'John Doe', 'email': 'john.doe@example.com'}"
      ]
     },
     "execution_count": 12,
     "metadata": {},
     "output_type": "execute_result"
    }
   ],
   "source": [
    "get_user(1)  # Assuming the user with ID 1 exists"
   ]
  },
  {
   "cell_type": "code",
   "execution_count": 14,
   "metadata": {},
   "outputs": [],
   "source": [
    "def update_user(user_id, name=None, email=None):\n",
    "    update_values = {}\n",
    "    if name is not None:\n",
    "        update_values['name'] = name\n",
    "    if email is not None:\n",
    "        update_values['email'] = email\n",
    "    if not update_values:\n",
    "        return False  # Nothing to update\n",
    "\n",
    "    upd = users.update().where(users.c.id == user_id).values(**update_values)\n",
    "    with engine.connect() as conn:\n",
    "        result = conn.execute(upd)\n",
    "        conn.commit()\n",
    "        return result.rowcount > 0  # True if a row was updated, else False"
   ]
  },
  {
   "cell_type": "code",
   "execution_count": 15,
   "metadata": {},
   "outputs": [
    {
     "name": "stdout",
     "output_type": "stream",
     "text": [
      "2025-08-05 13:26:42,753 INFO sqlalchemy.engine.Engine BEGIN (implicit)\n",
      "2025-08-05 13:26:42,754 INFO sqlalchemy.engine.Engine UPDATE users SET name=?, email=? WHERE users.id = ?\n",
      "2025-08-05 13:26:42,755 INFO sqlalchemy.engine.Engine [generated in 0.00250s] ('Jane Doe', 'john.new@example.com', 1)\n",
      "2025-08-05 13:26:42,759 INFO sqlalchemy.engine.Engine COMMIT\n"
     ]
    },
    {
     "data": {
      "text/plain": [
       "True"
      ]
     },
     "execution_count": 15,
     "metadata": {},
     "output_type": "execute_result"
    }
   ],
   "source": [
    "update_user(1, name='Jane Doe', email='john.new@example.com')"
   ]
  },
  {
   "cell_type": "code",
   "execution_count": 16,
   "metadata": {},
   "outputs": [],
   "source": [
    "def delete_user(user_id):\n",
    "    delete_stmt = users.delete().where(users.c.id == user_id)\n",
    "    with engine.connect() as conn:\n",
    "        result = conn.execute(delete_stmt)\n",
    "        conn.commit()\n",
    "        return result.rowcount > 0  # True if a row was deleted, else False"
   ]
  },
  {
   "cell_type": "code",
   "execution_count": 17,
   "metadata": {},
   "outputs": [
    {
     "name": "stdout",
     "output_type": "stream",
     "text": [
      "2025-08-05 13:29:00,389 INFO sqlalchemy.engine.Engine BEGIN (implicit)\n",
      "2025-08-05 13:29:00,391 INFO sqlalchemy.engine.Engine DELETE FROM users WHERE users.id = ?\n",
      "2025-08-05 13:29:00,393 INFO sqlalchemy.engine.Engine [generated in 0.00365s] (1,)\n",
      "2025-08-05 13:29:00,397 INFO sqlalchemy.engine.Engine COMMIT\n"
     ]
    },
    {
     "data": {
      "text/plain": [
       "True"
      ]
     },
     "execution_count": 17,
     "metadata": {},
     "output_type": "execute_result"
    }
   ],
   "source": [
    "delete_user(1)  # Assuming the user with ID 1 exists"
   ]
  }
 ],
 "metadata": {
  "kernelspec": {
   "display_name": ".venv",
   "language": "python",
   "name": "python3"
  },
  "language_info": {
   "codemirror_mode": {
    "name": "ipython",
    "version": 3
   },
   "file_extension": ".py",
   "mimetype": "text/x-python",
   "name": "python",
   "nbconvert_exporter": "python",
   "pygments_lexer": "ipython3",
   "version": "3.11.9"
  }
 },
 "nbformat": 4,
 "nbformat_minor": 2
}
